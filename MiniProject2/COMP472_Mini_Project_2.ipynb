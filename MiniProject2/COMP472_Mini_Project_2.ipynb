{
  "nbformat": 4,
  "nbformat_minor": 0,
  "metadata": {
    "colab": {
      "provenance": [],
      "collapsed_sections": [
        "1vpWSaKzll2a"
      ]
    },
    "kernelspec": {
      "name": "python3",
      "display_name": "Python 3"
    },
    "language_info": {
      "name": "python"
    }
  },
  "cells": [
    {
      "cell_type": "markdown",
      "source": [
        "# Imports"
      ],
      "metadata": {
        "id": "En3M5Y9z88Yv"
      }
    },
    {
      "cell_type": "code",
      "execution_count": 126,
      "metadata": {
        "id": "jW_1tDbHy6EB"
      },
      "outputs": [],
      "source": [
        "# IMPORTS\n",
        "import numpy as np\n",
        "from enum import Enum"
      ]
    },
    {
      "cell_type": "markdown",
      "source": [
        "# CLASS INITIALIZATIONS"
      ],
      "metadata": {
        "id": "xuCpQtzw81lH"
      }
    },
    {
      "cell_type": "code",
      "source": [
        "class Direction(Enum):\n",
        "  HORIZONTAL = 1\n",
        "  VERTICAL = 2\n",
        "\n",
        "class Coordinate(object):\n",
        "  def __init__(self, X, Y):\n",
        "    self.X = X \n",
        "    self.Y = Y\n",
        "  # Primarily for testing to see if Coordinate works\n",
        "  def __str__(self):\n",
        "    return \"(\" + str(self.X) + \", \" + str(self.Y) + \")\"\n",
        "\n",
        "class Car(object):\n",
        "  def __init__(self, letter, coordinate, fuel):\n",
        "    self.letter = letter  # Remember that A is the most important\n",
        "    self.coordinates = []\n",
        "    self.coordinates.append(coordinate)\n",
        "    self.fuel = fuel\n",
        "\n",
        "  def isA(self):\n",
        "    return self.letter == 'A'\n",
        "\n",
        "  def compareLetters(self, letter):\n",
        "    return self.letter == letter\n",
        "\n",
        "  def addCoordinate(self, newCoord):\n",
        "    self.coordinates.append(newCoord)\n",
        "    # Update direction\n",
        "    # L-R (Horizontal)\n",
        "    if self.coordinates[0].X != newCoord.X and self.coordinates[0].Y == newCoord.Y:\n",
        "      self.dir = Direction.HORIZONTAL\n",
        "    # U-D (Vertical)\n",
        "    else:\n",
        "      self.dir = Direction.VERTICAL\n",
        "\n",
        "  def getLetter(self):\n",
        "    return self.letter; \n",
        "\n",
        "  # Primarily for testing to see if Car works\n",
        "  def __str__(self):\n",
        "    s = self.letter + \" -> \";\n",
        "    for i in self.coordinates:\n",
        "      s += str(i)\n",
        "    return s + \" | \" + str(self.fuel) + \" | \" + str(self.dir)\n",
        "\n",
        "  @staticmethod\n",
        "  def create(letter, coordinates, fuel):\n",
        "    return Car(letter, coordinates, fuel)\n",
        "\n",
        "class Board(object):\n",
        "  def __init__(self, cars):\n",
        "    self.size = {'X': 6, 'Y': 6}\n",
        "    self.cars = cars\n",
        "\n",
        "  def __str__(self):\n",
        "    grid = [['.' for i in range(6)] for j in range(6)]\n",
        "    for car in cars:  \n",
        "      c = car\n",
        "      for coord in c.coordinates:\n",
        "        grid[coord.X][coord.Y] = car.letter\n",
        "    \n",
        "    s = \"\"\n",
        "    for x in range(6):\n",
        "      for y in range(6):\n",
        "        s += grid[x][y]\n",
        "      s += \"\\n\"\n",
        "      \n",
        "    return s"
      ],
      "metadata": {
        "id": "Hzgrdijk8aaL"
      },
      "execution_count": 129,
      "outputs": []
    },
    {
      "cell_type": "markdown",
      "source": [
        "# Extracting Data From Sample-input.txt"
      ],
      "metadata": {
        "id": "1vpWSaKzll2a"
      }
    },
    {
      "cell_type": "code",
      "source": [
        "demos = []\n",
        "demoFuels = []\n",
        "\n",
        "with open('sample-input.txt') as f:\n",
        "    for line in f:\n",
        "      if not line.startswith(('#', '\\n')):\n",
        "        in_arr = np.array([line.strip()])\n",
        "        data = np.char.split(in_arr)[0]\n",
        "        demos.append(data)\n",
        "f.close()\n",
        "\n",
        "print(demos)"
      ],
      "metadata": {
        "colab": {
          "base_uri": "https://localhost:8080/"
        },
        "id": "g8PU2VFIg0RK",
        "outputId": "cd97fd00-0863-4cfa-d3fa-6096bf5fee7e"
      },
      "execution_count": 119,
      "outputs": [
        {
          "output_type": "stream",
          "name": "stdout",
          "text": [
            "[['BBIJ....IJCC..IAAMGDDK.MGH.KL.GHFFL.'], ['..I...BBI.K.GHAAKLGHDDKLG..JEEFF.J..'], ['JBBCCCJDD..MJAAL.MFFKL.N..KGGN.HH...'], ['BBB..MCCDD.MAAKL.MJ.KLEEJ.GG..JHHHII', 'J0', 'B4'], ['IJBBCCIJDDL.IJAAL.EEK.L...KFF..GGHH.', 'F0', 'G6'], ['BB.G.HE..G.HEAAG.I..FCCIDDF..I..F...']]\n"
          ]
        }
      ]
    },
    {
      "cell_type": "markdown",
      "source": [
        "# Setting the boards up"
      ],
      "metadata": {
        "id": "R6fG7yKV85PP"
      }
    },
    {
      "cell_type": "code",
      "source": [
        "boards = []\n",
        "for data in demos:\n",
        "  # Seperate Grid Data from the Fuel Parameters\n",
        "  grid = data[0];\n",
        "  fuels = []\n",
        "  if(len(data) > 1):\n",
        "    fuels.append(data[1:])\n",
        "\n",
        "  cars = []\n",
        "  for x in range(6):\n",
        "    for y in range(6):\n",
        "      current = grid[x*6 + y];\n",
        "      \n",
        "      # If Unique: Create a car and append\n",
        "      # If Not Unique: Concat to same letter\n",
        "      if current == \".\":\n",
        "        continue\n",
        "\n",
        "      unique = True\n",
        "      for c in cars:\n",
        "        if c.compareLetters(current):\n",
        "          c.addCoordinate(Coordinate(x,y))\n",
        "          unique = False\n",
        "\n",
        "      if(unique):\n",
        "        # Now check if there's a unique fuel amount or if its the default 100\n",
        "        fuelAmt = 100\n",
        "        if(len(fuels) > 0):\n",
        "          for f in fuels[0]:\n",
        "            if current == f[0]:\n",
        "              fuelAmt = f[1:]\n",
        "\n",
        "        cars.append(Car.create(current, Coordinate(x,y), fuelAmt));\n",
        "\n",
        "  # Checking if all cars were made properly\n",
        "  print(\"CARS: \")\n",
        "  print(\"--------\")\n",
        "  for c in cars:\n",
        "    print(c)\n",
        "  print()\n",
        "\n",
        "  board = Board(cars);\n",
        "  # Checking if all boards were made properly\n",
        "  print(\"BOARD: \")\n",
        "  print(\"--------\")\n",
        "  print(board)\n",
        "  print()\n",
        "\n",
        "  boards.append(board)"
      ],
      "metadata": {
        "colab": {
          "base_uri": "https://localhost:8080/"
        },
        "id": "w5EDHMWizw5h",
        "outputId": "0cfd08b5-1e80-4d9e-8259-c8ae1c5be61b"
      },
      "execution_count": 130,
      "outputs": [
        {
          "output_type": "stream",
          "name": "stdout",
          "text": [
            "CARS: \n",
            "--------\n",
            "B -> (0, 0)(0, 1) | 100 | Direction.VERTICAL\n",
            "I -> (0, 2)(1, 2)(2, 2) | 100 | Direction.HORIZONTAL\n",
            "J -> (0, 3)(1, 3) | 100 | Direction.HORIZONTAL\n",
            "C -> (1, 4)(1, 5) | 100 | Direction.VERTICAL\n",
            "A -> (2, 3)(2, 4) | 100 | Direction.VERTICAL\n",
            "M -> (2, 5)(3, 5) | 100 | Direction.HORIZONTAL\n",
            "G -> (3, 0)(4, 0)(5, 0) | 100 | Direction.HORIZONTAL\n",
            "D -> (3, 1)(3, 2) | 100 | Direction.VERTICAL\n",
            "K -> (3, 3)(4, 3) | 100 | Direction.HORIZONTAL\n",
            "H -> (4, 1)(5, 1) | 100 | Direction.HORIZONTAL\n",
            "L -> (4, 4)(5, 4) | 100 | Direction.HORIZONTAL\n",
            "F -> (5, 2)(5, 3) | 100 | Direction.VERTICAL\n",
            "\n",
            "BOARD: \n",
            "--------\n",
            "BBIJ..\n",
            "..IJCC\n",
            "..IAAM\n",
            "GDDK.M\n",
            "GH.KL.\n",
            "GHFFL.\n",
            "\n",
            "\n",
            "CARS: \n",
            "--------\n",
            "I -> (0, 2)(1, 2) | 100 | Direction.HORIZONTAL\n",
            "B -> (1, 0)(1, 1) | 100 | Direction.VERTICAL\n",
            "K -> (1, 4)(2, 4)(3, 4) | 100 | Direction.HORIZONTAL\n",
            "G -> (2, 0)(3, 0)(4, 0) | 100 | Direction.HORIZONTAL\n",
            "H -> (2, 1)(3, 1) | 100 | Direction.HORIZONTAL\n",
            "A -> (2, 2)(2, 3) | 100 | Direction.VERTICAL\n",
            "L -> (2, 5)(3, 5) | 100 | Direction.HORIZONTAL\n",
            "D -> (3, 2)(3, 3) | 100 | Direction.VERTICAL\n",
            "J -> (4, 3)(5, 3) | 100 | Direction.HORIZONTAL\n",
            "E -> (4, 4)(4, 5) | 100 | Direction.VERTICAL\n",
            "F -> (5, 0)(5, 1) | 100 | Direction.VERTICAL\n",
            "\n",
            "BOARD: \n",
            "--------\n",
            "..I...\n",
            "BBI.K.\n",
            "GHAAKL\n",
            "GHDDKL\n",
            "G..JEE\n",
            "FF.J..\n",
            "\n",
            "\n",
            "CARS: \n",
            "--------\n",
            "J -> (0, 0)(1, 0)(2, 0) | 100 | Direction.HORIZONTAL\n",
            "B -> (0, 1)(0, 2) | 100 | Direction.VERTICAL\n",
            "C -> (0, 3)(0, 4)(0, 5) | 100 | Direction.VERTICAL\n",
            "D -> (1, 1)(1, 2) | 100 | Direction.VERTICAL\n",
            "M -> (1, 5)(2, 5) | 100 | Direction.HORIZONTAL\n",
            "A -> (2, 1)(2, 2) | 100 | Direction.VERTICAL\n",
            "L -> (2, 3)(3, 3) | 100 | Direction.HORIZONTAL\n",
            "F -> (3, 0)(3, 1) | 100 | Direction.VERTICAL\n",
            "K -> (3, 2)(4, 2) | 100 | Direction.HORIZONTAL\n",
            "N -> (3, 5)(4, 5) | 100 | Direction.HORIZONTAL\n",
            "G -> (4, 3)(4, 4) | 100 | Direction.VERTICAL\n",
            "H -> (5, 1)(5, 2) | 100 | Direction.VERTICAL\n",
            "\n",
            "BOARD: \n",
            "--------\n",
            "JBBCCC\n",
            "JDD..M\n",
            "JAAL.M\n",
            "FFKL.N\n",
            "..KGGN\n",
            ".HH...\n",
            "\n",
            "\n",
            "CARS: \n",
            "--------\n",
            "B -> (0, 0)(0, 1)(0, 2) | 4 | Direction.VERTICAL\n",
            "M -> (0, 5)(1, 5)(2, 5) | 100 | Direction.HORIZONTAL\n",
            "C -> (1, 0)(1, 1) | 100 | Direction.VERTICAL\n",
            "D -> (1, 2)(1, 3) | 100 | Direction.VERTICAL\n",
            "A -> (2, 0)(2, 1) | 100 | Direction.VERTICAL\n",
            "K -> (2, 2)(3, 2) | 100 | Direction.HORIZONTAL\n",
            "L -> (2, 3)(3, 3) | 100 | Direction.HORIZONTAL\n",
            "J -> (3, 0)(4, 0)(5, 0) | 0 | Direction.HORIZONTAL\n",
            "E -> (3, 4)(3, 5) | 100 | Direction.VERTICAL\n",
            "G -> (4, 2)(4, 3) | 100 | Direction.VERTICAL\n",
            "H -> (5, 1)(5, 2)(5, 3) | 100 | Direction.VERTICAL\n",
            "I -> (5, 4)(5, 5) | 100 | Direction.VERTICAL\n",
            "\n",
            "BOARD: \n",
            "--------\n",
            "BBB..M\n",
            "CCDD.M\n",
            "AAKL.M\n",
            "J.KLEE\n",
            "J.GG..\n",
            "JHHHII\n",
            "\n",
            "\n",
            "CARS: \n",
            "--------\n",
            "I -> (0, 0)(1, 0)(2, 0) | 100 | Direction.HORIZONTAL\n",
            "J -> (0, 1)(1, 1)(2, 1) | 100 | Direction.HORIZONTAL\n",
            "B -> (0, 2)(0, 3) | 100 | Direction.VERTICAL\n",
            "C -> (0, 4)(0, 5) | 100 | Direction.VERTICAL\n",
            "D -> (1, 2)(1, 3) | 100 | Direction.VERTICAL\n",
            "L -> (1, 4)(2, 4)(3, 4) | 100 | Direction.HORIZONTAL\n",
            "A -> (2, 2)(2, 3) | 100 | Direction.VERTICAL\n",
            "E -> (3, 0)(3, 1) | 100 | Direction.VERTICAL\n",
            "K -> (3, 2)(4, 2) | 100 | Direction.HORIZONTAL\n",
            "F -> (4, 3)(4, 4) | 0 | Direction.VERTICAL\n",
            "G -> (5, 1)(5, 2) | 6 | Direction.VERTICAL\n",
            "H -> (5, 3)(5, 4) | 100 | Direction.VERTICAL\n",
            "\n",
            "BOARD: \n",
            "--------\n",
            "IJBBCC\n",
            "IJDDL.\n",
            "IJAAL.\n",
            "EEK.L.\n",
            "..KFF.\n",
            ".GGHH.\n",
            "\n",
            "\n",
            "CARS: \n",
            "--------\n",
            "B -> (0, 0)(0, 1) | 100 | Direction.VERTICAL\n",
            "G -> (0, 3)(1, 3)(2, 3) | 100 | Direction.HORIZONTAL\n",
            "H -> (0, 5)(1, 5) | 100 | Direction.HORIZONTAL\n",
            "E -> (1, 0)(2, 0) | 100 | Direction.HORIZONTAL\n",
            "A -> (2, 1)(2, 2) | 100 | Direction.VERTICAL\n",
            "I -> (2, 5)(3, 5)(4, 5) | 100 | Direction.HORIZONTAL\n",
            "F -> (3, 2)(4, 2)(5, 2) | 100 | Direction.HORIZONTAL\n",
            "C -> (3, 3)(3, 4) | 100 | Direction.VERTICAL\n",
            "D -> (4, 0)(4, 1) | 100 | Direction.VERTICAL\n",
            "\n",
            "BOARD: \n",
            "--------\n",
            "BB.G.H\n",
            "E..G.H\n",
            "EAAG.I\n",
            "..FCCI\n",
            "DDF..I\n",
            "..F...\n",
            "\n",
            "\n"
          ]
        }
      ]
    },
    {
      "cell_type": "markdown",
      "source": [
        "# State Space Search - Uniform Cost Search (UCS)"
      ],
      "metadata": {
        "id": "y0Qs3H9DHK5p"
      }
    },
    {
      "cell_type": "code",
      "source": [
        "# Later"
      ],
      "metadata": {
        "id": "N565hTVGHKfQ"
      },
      "execution_count": null,
      "outputs": []
    }
  ]
}